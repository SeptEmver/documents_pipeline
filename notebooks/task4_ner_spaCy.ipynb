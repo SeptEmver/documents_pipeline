{
 "cells": [
  {
   "cell_type": "code",
   "execution_count": 1,
   "outputs": [
    {
     "name": "stdout",
     "output_type": "stream",
     "text": [
      "Apple 0 5 ORG\n",
      "U.K. 27 31 GPE\n",
      "$1 billion 44 54 MONEY\n"
     ]
    }
   ],
   "source": [
    "import spacy\n",
    "\n",
    "nlp = spacy.load(\"en_core_web_sm\")\n",
    "doc = nlp(\"Apple is looking at buying U.K. startup for $1 billion\")\n",
    "\n",
    "for ent in doc.ents:\n",
    "    print(ent.text, ent.start_char, ent.end_char, ent.label_)\n"
   ],
   "metadata": {
    "collapsed": false,
    "pycharm": {
     "name": "#%%\n"
    }
   }
  },
  {
   "cell_type": "code",
   "execution_count": 2,
   "outputs": [
    {
     "name": "stdout",
     "output_type": "stream",
     "text": [
      "BROWN & WILLIAMSON TOBACCO CORPORATION RESEARCH ORG\n",
      "DEVELOPMENT & ENGINEFRING ~ INTERNAL CORRESPONDENCE ORG\n",
      "W. H. Deines PERSON\n",
      "E. E. Xohnhorst Me PERSON\n",
      "J. Melinan PERSON\n",
      "L. B. PERSON\n",
      "B. A. Sproule Me PERSON\n",
      "Reynolds ORG\n",
      "T. F. Rieht Me ORG\n",
      "R. F. Brotege PERSON\n",
      "B.A. Kerr PERSON\n",
      "T. E. Albert PERSON\n",
      "A. L. Kirby PERSON\n",
      "August 20 DATE\n",
      "198% PERCENT\n",
      "21-59 years old DATE\n",
      "Dupont ORG\n",
      "early June DATE\n",
      "200 CARDINAL\n",
      "late-Septeuber DATE\n",
      "6741 DATE\n"
     ]
    }
   ],
   "source": [
    "text = \"\"\"BROWN & WILLIAMSON TOBACCO CORPORATION RESEARCH, DEVELOPMENT & ENGINEFRING ~ INTERNAL CORRESPONDENCE TO: Dr. W. H. Deines ec: Me. E. E. Xohnhorst Me. A, J. Melinan Mr. L. B. Gravely Dr. B. A. Sproule Me, Reynolds Mc. T. F. Rieht Me. R. F. Brotege Ms. B.A. Kerr fic. T. E. Albert FROM: Ms. A. L. Kirby DATE: August 20, 198% SUBJECT: BRAND SUMMARY OF DUPONT PANELISTS/311 I have attached a brand-by-brand tally of usable (21-59 years old) Dupont panelists. This information was from early June. The system is consistantly updated with brand of current panelists. Recently, 200 panelists per month have been added to the Another tally will be available late-Septeuber. ALL. Be ALK/sek a 6741 a Attachments \\u201c\"\"\"\n",
    "\n",
    "doc = nlp(text)\n",
    "\n",
    "for ent in doc.ents:\n",
    "    # print(ent.text, ent.start_char, ent.end_char, ent.label_)\n",
    "    print(ent.text, ent.label_)\n",
    "\n"
   ],
   "metadata": {
    "collapsed": false,
    "pycharm": {
     "name": "#%%\n"
    }
   }
  },
  {
   "cell_type": "code",
   "execution_count": 7,
   "outputs": [
    {
     "name": "stdout",
     "output_type": "stream",
     "text": [
      "96$ 0 3 MONEY\n",
      "forty dollars 10 23 MONEY\n",
      "Florida 27 34 GPE\n"
     ]
    }
   ],
   "source": [
    "text = \"96$ . And forty dollars in Florida\"\n",
    "doc = nlp(text)\n",
    "\n",
    "for ent in doc.ents:\n",
    "    print(ent.text, ent.start_char, ent.end_char, ent.label_)\n",
    "\n",
    "\n"
   ],
   "metadata": {
    "collapsed": false,
    "pycharm": {
     "name": "#%%\n"
    }
   }
  }
 ],
 "metadata": {
  "kernelspec": {
   "display_name": "Python 3",
   "language": "python",
   "name": "python3"
  },
  "language_info": {
   "codemirror_mode": {
    "name": "ipython",
    "version": 2
   },
   "file_extension": ".py",
   "mimetype": "text/x-python",
   "name": "python",
   "nbconvert_exporter": "python",
   "pygments_lexer": "ipython2",
   "version": "2.7.6"
  }
 },
 "nbformat": 4,
 "nbformat_minor": 0
}