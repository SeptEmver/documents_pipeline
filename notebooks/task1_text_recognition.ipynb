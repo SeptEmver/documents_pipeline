{
 "cells": [
  {
   "cell_type": "code",
   "execution_count": 13,
   "outputs": [],
   "source": [
    "from functools import reduce\n",
    "from pathlib import Path\n",
    "import cv2\n",
    "import pytesseract\n",
    "from pytesseract import Output\n",
    "import numpy as np\n",
    "import pandas"
   ],
   "metadata": {
    "collapsed": false,
    "pycharm": {
     "name": "#%%\n"
    }
   }
  },
  {
   "cell_type": "code",
   "execution_count": 14,
   "metadata": {
    "collapsed": true
   },
   "outputs": [],
   "source": [
    "tiff_dir = Path.cwd().parent / \"collection_tiff_docs\"\n",
    "path_one_doc_sample: str = str(tiff_dir / \"0000066686.tiff\")\n",
    "path_multi_doc_sample: str = str(tiff_dir / \"memo.tiff\")\n",
    "with open(tiff_dir / \"0000066686.tiff\") as f:\n",
    "    pass"
   ]
  },
  {
   "cell_type": "code",
   "execution_count": 15,
   "outputs": [
    {
     "data": {
      "text/plain": "True"
     },
     "execution_count": 15,
     "metadata": {},
     "output_type": "execute_result"
    }
   ],
   "source": [
    "one_doc_sample = cv2.imread(path_one_doc_sample, cv2.IMREAD_COLOR)\n",
    "# ret, multi_doc_sample = cv2.imreadmulti(path_multi_doc_sample, [], cv2.IMREAD_COLOR)\n",
    "ret, other_doc_sample = cv2.imreadmulti(path_one_doc_sample, [], cv2.IMREAD_COLOR)\n",
    "...\n",
    "cv2.imwrite(\"1_00001.tif\", one_doc_sample)\n",
    "# cv2.imwritemulti(\"1_00002.tif\", multi_doc_sample)\n",
    "# img1=cv2.imread(\"1_00001.tif\")\n"
   ],
   "metadata": {
    "collapsed": false,
    "pycharm": {
     "name": "#%%\n"
    }
   }
  },
  {
   "cell_type": "code",
   "execution_count": 16,
   "outputs": [
    {
     "data": {
      "text/plain": "'BROWN & WILLTAMSON TOBACCO CORPORATION\\nRESEARCH, DEVELOPMENT & ENGINEERING -\\nINTERNAL CORRESPONDENCE\\nTO: Dr. W. H. Deines\\nce: Mr. E. E. Kohnhorst\\nMe. A. J. Mellman\\nMr. L. E. Gravely\\nDr. B. A. Sproule\\nMr. M. L. Reynolds\\nMr. T. F. Riehl\\nMr. R. F. Brotzge\\nMs. BL A. Kerr\\nMr. T. E. Albert\\nFROM: Ms. A. L. Kirby\\nDATE: August 20, 198%\\nSUBJECT: BRAND SUMMARY OF DUPONT PANELISTS/311\\nI have attached a brand-by-brand tally of usable (21-59 years old)\\nDupont panelists. This information was from early June.\\nThe system is consistantly updated with brand changes of current\\npanelists. Recently, 200 panelists per month have been added to the\\nsystem.\\nAnother tally will be available late-September.\\nPam <8\\nALK/sek ir}\\nQa\\n06741 S\\na\\nAttachments 2\\n&\\n<9\\n&\\n3 nN\\n\\x0c'"
     },
     "execution_count": 16,
     "metadata": {},
     "output_type": "execute_result"
    }
   ],
   "source": [
    "pytesseract.pytesseract.tesseract_cmd = r'C:\\Program Files\\Tesseract-OCR\\tesseract.exe'\n",
    "# https://muthu.co/all-tesseract-ocr-options/\n",
    "custom_config = r'--oem 3 --psm 6'\n",
    "result = pytesseract.image_to_string(one_doc_sample, config=custom_config)\n",
    "result"
   ],
   "metadata": {
    "collapsed": false,
    "pycharm": {
     "name": "#%%\n"
    }
   }
  },
  {
   "cell_type": "code",
   "execution_count": 17,
   "outputs": [],
   "source": [
    "d_b = pytesseract.image_to_data(one_doc_sample, output_type=Output.DATAFRAME, config=custom_config)\n",
    "text_before_preprocess = d_b[\"text\"]"
   ],
   "metadata": {
    "collapsed": false,
    "pycharm": {
     "name": "#%%\n"
    }
   }
  },
  {
   "cell_type": "code",
   "execution_count": 18,
   "outputs": [],
   "source": [
    "# get grayscale image\n",
    "def get_grayscale(image):\n",
    "    return cv2.cvtColor(image, cv2.COLOR_BGR2GRAY)\n",
    "\n",
    "# noise removal\n",
    "def remove_noise(image):\n",
    "    return cv2.medianBlur(image,2)\n",
    "\n",
    "#thresholding\n",
    "def thresholding(image):\n",
    "    return cv2.threshold(image, 0, 255, cv2.THRESH_BINARY + cv2.THRESH_OTSU)[1]\n",
    "\n",
    "#opening - erosion followed by dilation\n",
    "def opening(image):\n",
    "    kernel = np.ones((2,2),np.uint8)\n",
    "    return cv2.morphologyEx(image, cv2.MORPH_OPEN, kernel)"
   ],
   "metadata": {
    "collapsed": false,
    "pycharm": {
     "name": "#%%\n"
    }
   }
  },
  {
   "cell_type": "code",
   "execution_count": 19,
   "outputs": [
    {
     "data": {
      "text/plain": "True"
     },
     "execution_count": 19,
     "metadata": {},
     "output_type": "execute_result"
    }
   ],
   "source": [
    "pr_one_doc_sample = reduce(lambda item, func: func(item),\n",
    "        # [one_doc_sample, get_grayscale, remove_noise, thresholding, opening])\n",
    "        # remove_noise - недостаточное разрешение изображения\n",
    "        [one_doc_sample, get_grayscale, thresholding])\n",
    "\n",
    "cv2.imwrite(\"1_00001_pr.tif\", pr_one_doc_sample)"
   ],
   "metadata": {
    "collapsed": false,
    "pycharm": {
     "name": "#%%\n"
    }
   }
  },
  {
   "cell_type": "code",
   "execution_count": 20,
   "outputs": [
    {
     "data": {
      "text/plain": "([nan,\n  nan,\n  nan,\n  nan,\n  'BROWN',\n  '&',\n  'WILLTAMSON',\n  'TOBACCO',\n  'CORPORATION',\n  nan,\n  'RESEARCH,',\n  'DEVELOPMENT',\n  '&',\n  'ENGINEERING',\n  '-',\n  nan,\n  'INTERNAL',\n  'CORRESPONDENCE',\n  nan,\n  'TO:'],\n [nan,\n  nan,\n  nan,\n  nan,\n  'BROWN',\n  '&',\n  'WILLIAMSON',\n  'TOBACCO',\n  'CORPORATION',\n  nan,\n  'RESEARCH,',\n  'DEVELOPMENT',\n  '&',\n  'ENGINEFRING',\n  '~',\n  nan,\n  'INTERNAL',\n  'CORRESPONDENCE',\n  nan,\n  'TO:'])"
     },
     "execution_count": 20,
     "metadata": {},
     "output_type": "execute_result"
    }
   ],
   "source": [
    "d = pytesseract.image_to_data(pr_one_doc_sample, output_type=Output.DATAFRAME, config=custom_config)\n",
    "text_after_preprocess = d[\"text\"]\n",
    "[s for s in text_before_preprocess if s][:20], [s for s in text_after_preprocess if s][:20]"
   ],
   "metadata": {
    "collapsed": false,
    "pycharm": {
     "name": "#%%\n"
    }
   }
  },
  {
   "cell_type": "code",
   "execution_count": 21,
   "outputs": [
    {
     "data": {
      "text/plain": "True"
     },
     "execution_count": 21,
     "metadata": {},
     "output_type": "execute_result"
    }
   ],
   "source": [
    "n_boxes = len(d['text'])\n",
    "for i in range(n_boxes):\n",
    "    if float(d['conf'][i]) > 0:\n",
    "        (x, y, w, h) = (d['left'][i], d['top'][i], d['width'][i], d['height'][i])\n",
    "        img = cv2.rectangle(pr_one_doc_sample, (x, y), (x + w, y + h), (0, 255, 0), 2)\n",
    "\n",
    "cv2.imwrite('1_00001_pr_contours.tif', pr_one_doc_sample)"
   ],
   "metadata": {
    "collapsed": false,
    "pycharm": {
     "name": "#%%\n"
    }
   }
  },
  {
   "cell_type": "code",
   "execution_count": 22,
   "outputs": [
    {
     "data": {
      "text/plain": "     level  page_num  block_num  par_num  line_num  word_num   left    top  \\\n4      5.0       1.0        1.0      1.0       1.0       1.0  238.0  165.0   \n5      5.0       1.0        1.0      1.0       1.0       2.0  283.0  165.0   \n6      5.0       1.0        1.0      1.0       1.0       3.0  298.0  165.0   \n7      5.0       1.0        1.0      1.0       1.0       4.0  381.0  165.0   \n8      5.0       1.0        1.0      1.0       1.0       5.0  442.0  165.0   \n..     ...       ...        ...      ...       ...       ...    ...    ...   \n146    5.0       1.0        1.0      1.0      25.0       1.0  697.0  795.0   \n148    5.0       1.0        1.0      1.0      26.0       1.0  120.0  808.0   \n151    5.0       1.0        1.0      1.0      27.0       1.0  696.0  821.0   \n153    5.0       1.0        1.0      1.0      28.0       1.0  121.0  830.0   \n163    5.0       1.0        1.0      1.0      32.0       2.0  695.0  887.0   \n\n     width  height       conf         text  \n4     37.0     9.0  86.148788        BROWN  \n5      6.0     9.0  87.333069            &  \n6     75.0     9.0  52.046848   WILLIAMSON  \n7     52.0     9.0  91.039345      TOBACCO  \n8     82.0     9.0  92.391891  CORPORATION  \n..     ...     ...        ...          ...  \n146   15.0    12.0  75.315247            a  \n148   36.0     9.0  51.852295         6741  \n151   16.0    12.0  89.573608            a  \n153   81.0    25.0  95.032150  Attachments  \n163   16.0    13.0  52.481026            “  \n\n[119 rows x 12 columns]",
      "text/html": "<div>\n<style scoped>\n    .dataframe tbody tr th:only-of-type {\n        vertical-align: middle;\n    }\n\n    .dataframe tbody tr th {\n        vertical-align: top;\n    }\n\n    .dataframe thead th {\n        text-align: right;\n    }\n</style>\n<table border=\"1\" class=\"dataframe\">\n  <thead>\n    <tr style=\"text-align: right;\">\n      <th></th>\n      <th>level</th>\n      <th>page_num</th>\n      <th>block_num</th>\n      <th>par_num</th>\n      <th>line_num</th>\n      <th>word_num</th>\n      <th>left</th>\n      <th>top</th>\n      <th>width</th>\n      <th>height</th>\n      <th>conf</th>\n      <th>text</th>\n    </tr>\n  </thead>\n  <tbody>\n    <tr>\n      <th>4</th>\n      <td>5.0</td>\n      <td>1.0</td>\n      <td>1.0</td>\n      <td>1.0</td>\n      <td>1.0</td>\n      <td>1.0</td>\n      <td>238.0</td>\n      <td>165.0</td>\n      <td>37.0</td>\n      <td>9.0</td>\n      <td>86.148788</td>\n      <td>BROWN</td>\n    </tr>\n    <tr>\n      <th>5</th>\n      <td>5.0</td>\n      <td>1.0</td>\n      <td>1.0</td>\n      <td>1.0</td>\n      <td>1.0</td>\n      <td>2.0</td>\n      <td>283.0</td>\n      <td>165.0</td>\n      <td>6.0</td>\n      <td>9.0</td>\n      <td>87.333069</td>\n      <td>&amp;</td>\n    </tr>\n    <tr>\n      <th>6</th>\n      <td>5.0</td>\n      <td>1.0</td>\n      <td>1.0</td>\n      <td>1.0</td>\n      <td>1.0</td>\n      <td>3.0</td>\n      <td>298.0</td>\n      <td>165.0</td>\n      <td>75.0</td>\n      <td>9.0</td>\n      <td>52.046848</td>\n      <td>WILLIAMSON</td>\n    </tr>\n    <tr>\n      <th>7</th>\n      <td>5.0</td>\n      <td>1.0</td>\n      <td>1.0</td>\n      <td>1.0</td>\n      <td>1.0</td>\n      <td>4.0</td>\n      <td>381.0</td>\n      <td>165.0</td>\n      <td>52.0</td>\n      <td>9.0</td>\n      <td>91.039345</td>\n      <td>TOBACCO</td>\n    </tr>\n    <tr>\n      <th>8</th>\n      <td>5.0</td>\n      <td>1.0</td>\n      <td>1.0</td>\n      <td>1.0</td>\n      <td>1.0</td>\n      <td>5.0</td>\n      <td>442.0</td>\n      <td>165.0</td>\n      <td>82.0</td>\n      <td>9.0</td>\n      <td>92.391891</td>\n      <td>CORPORATION</td>\n    </tr>\n    <tr>\n      <th>...</th>\n      <td>...</td>\n      <td>...</td>\n      <td>...</td>\n      <td>...</td>\n      <td>...</td>\n      <td>...</td>\n      <td>...</td>\n      <td>...</td>\n      <td>...</td>\n      <td>...</td>\n      <td>...</td>\n      <td>...</td>\n    </tr>\n    <tr>\n      <th>146</th>\n      <td>5.0</td>\n      <td>1.0</td>\n      <td>1.0</td>\n      <td>1.0</td>\n      <td>25.0</td>\n      <td>1.0</td>\n      <td>697.0</td>\n      <td>795.0</td>\n      <td>15.0</td>\n      <td>12.0</td>\n      <td>75.315247</td>\n      <td>a</td>\n    </tr>\n    <tr>\n      <th>148</th>\n      <td>5.0</td>\n      <td>1.0</td>\n      <td>1.0</td>\n      <td>1.0</td>\n      <td>26.0</td>\n      <td>1.0</td>\n      <td>120.0</td>\n      <td>808.0</td>\n      <td>36.0</td>\n      <td>9.0</td>\n      <td>51.852295</td>\n      <td>6741</td>\n    </tr>\n    <tr>\n      <th>151</th>\n      <td>5.0</td>\n      <td>1.0</td>\n      <td>1.0</td>\n      <td>1.0</td>\n      <td>27.0</td>\n      <td>1.0</td>\n      <td>696.0</td>\n      <td>821.0</td>\n      <td>16.0</td>\n      <td>12.0</td>\n      <td>89.573608</td>\n      <td>a</td>\n    </tr>\n    <tr>\n      <th>153</th>\n      <td>5.0</td>\n      <td>1.0</td>\n      <td>1.0</td>\n      <td>1.0</td>\n      <td>28.0</td>\n      <td>1.0</td>\n      <td>121.0</td>\n      <td>830.0</td>\n      <td>81.0</td>\n      <td>25.0</td>\n      <td>95.032150</td>\n      <td>Attachments</td>\n    </tr>\n    <tr>\n      <th>163</th>\n      <td>5.0</td>\n      <td>1.0</td>\n      <td>1.0</td>\n      <td>1.0</td>\n      <td>32.0</td>\n      <td>2.0</td>\n      <td>695.0</td>\n      <td>887.0</td>\n      <td>16.0</td>\n      <td>13.0</td>\n      <td>52.481026</td>\n      <td>“</td>\n    </tr>\n  </tbody>\n</table>\n<p>119 rows × 12 columns</p>\n</div>"
     },
     "execution_count": 22,
     "metadata": {},
     "output_type": "execute_result"
    }
   ],
   "source": [
    "dd = d.where(d[\"conf\"] > 40)\n",
    "dd.dropna(subset=[\"conf\"], inplace=True)\n",
    "dd\n"
   ],
   "metadata": {
    "collapsed": false,
    "pycharm": {
     "name": "#%%\n"
    }
   }
  }
 ],
 "metadata": {
  "kernelspec": {
   "display_name": "Python 3",
   "language": "python",
   "name": "python3"
  },
  "language_info": {
   "codemirror_mode": {
    "name": "ipython",
    "version": 2
   },
   "file_extension": ".py",
   "mimetype": "text/x-python",
   "name": "python",
   "nbconvert_exporter": "python",
   "pygments_lexer": "ipython2",
   "version": "2.7.6"
  }
 },
 "nbformat": 4,
 "nbformat_minor": 0
}